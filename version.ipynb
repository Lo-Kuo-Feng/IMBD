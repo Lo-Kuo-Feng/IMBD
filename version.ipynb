{
 "cells": [
  {
   "cell_type": "code",
   "execution_count": 1,
   "metadata": {},
   "outputs": [
    {
     "name": "stdout",
     "output_type": "stream",
     "text": [
      "win32\n",
      "\n",
      "conda version:\n",
      "conda 4.6.14\n",
      "\n",
      "jupyter notebook version:\n",
      "6.0.0\n",
      "\n",
      "python version:\n",
      "Python 3.6.7\n"
     ]
    }
   ],
   "source": [
    "import warnings\n",
    "warnings.filterwarnings('ignore')\n",
    "\n",
    "import sys\n",
    "print(sys.platform)\n",
    "print(\"\")\n",
    "print(\"conda version:\")\n",
    "!conda --version\n",
    "print(\"\")\n",
    "print(\"jupyter notebook version:\")\n",
    "!jupyter notebook --version\n",
    "print(\"\")\n",
    "print(\"python version:\")\n",
    "!python --version"
   ]
  },
  {
   "cell_type": "code",
   "execution_count": 2,
   "metadata": {},
   "outputs": [
    {
     "name": "stderr",
     "output_type": "stream",
     "text": [
      "Using TensorFlow backend.\n"
     ]
    },
    {
     "name": "stdout",
     "output_type": "stream",
     "text": [
      "numpy       : 1.16.4\n",
      "matplotlib  : 3.1.1\n",
      "tensorflow  : 1.10.0\n",
      "keras       : 2.2.4\n"
     ]
    }
   ],
   "source": [
    "import numpy\n",
    "import matplotlib\n",
    "import tensorflow\n",
    "import keras\n",
    "\n",
    "print(\"{:<12s}: {}\" .format(\"numpy\", numpy.__version__))\n",
    "print(\"{:<12s}: {}\" .format(\"matplotlib\", matplotlib.__version__))\n",
    "print(\"{:<12s}: {}\" .format(\"tensorflow\",tensorflow.__version__))\n",
    "print(\"{:<12s}: {}\" .format(\"keras\", keras.__version__))"
   ]
  },
  {
   "cell_type": "code",
   "execution_count": null,
   "metadata": {
    "collapsed": true
   },
   "outputs": [],
   "source": []
  }
 ],
 "metadata": {
  "kernelspec": {
   "display_name": "Python 3",
   "language": "python",
   "name": "python3"
  },
  "language_info": {
   "codemirror_mode": {
    "name": "ipython",
    "version": 3
   },
   "file_extension": ".py",
   "mimetype": "text/x-python",
   "name": "python",
   "nbconvert_exporter": "python",
   "pygments_lexer": "ipython3",
   "version": "3.6.7"
  }
 },
 "nbformat": 4,
 "nbformat_minor": 2
}
